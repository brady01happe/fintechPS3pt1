{
 "cells": [
  {
   "cell_type": "markdown",
   "metadata": {},
   "source": [
    "## Problem Set 3 (Part 1 of 2): Interacting with the Alpha Vantage API using Python libraries"
   ]
  },
  {
   "cell_type": "markdown",
   "metadata": {},
   "source": [
    "As automation and algorithms continue to disrupt the investment managmentment business, it is important to know how to access finacial data that is realtime and interactive. In this problem set we will access the Alpha Vantage API to build datasets of recent stock performance. Alpha Vantage is a provider of free APIs for realtime and historical data on stocks, forex, and cryptocurrencies.\n",
    "\n",
    "This part of the exercise demonstrates:\n",
    "\n",
    "1. Setting up a programming environment to work with APIs\n",
    "2. Interpreting documentation to change parameters\n",
    "3. Using the 'requests' library to make HTTP requests\n",
    "4. Getting data through HTTP requests\n",
    "5. Using the 'alpha_vantage' library to access the API and format the data\n",
    "6. Creating an Excel file from the data\n",
    "\n",
    "Documentation links:\n",
    "<br />Alpha Vantage: https://www.alphavantage.co/documentation/\n",
    "<br />Alpha Vantage Python library: https://alpha-vantage.readthedocs.io/en/latest/#\n",
    "<br />Requests library: https://2.python-requests.org/en/master/\n",
    "<br />Pandas DataFrame: https://pandas.pydata.org/pandas-docs/stable/reference/frame.html"
   ]
  },
  {
   "cell_type": "markdown",
   "metadata": {},
   "source": [
    "______"
   ]
  },
  {
   "cell_type": "markdown",
   "metadata": {},
   "source": [
    "#### Get API key\n",
    "\n",
    "Go to https://www.alphavantage.co/support/#api-key and obtain an API key. Copy this key into the \"api_key\" variable in the next cell:"
   ]
  },
  {
   "cell_type": "code",
   "execution_count": 11,
   "metadata": {},
   "outputs": [],
   "source": [
    "api_key = \"E2XUHG8ME7PBWDMT\""
   ]
  },
  {
   "cell_type": "markdown",
   "metadata": {},
   "source": [
    "Assign a stock ticker symbol of your choosing to the 'ticker' variable:"
   ]
  },
  {
   "cell_type": "code",
   "execution_count": 9,
   "metadata": {},
   "outputs": [],
   "source": [
    "ticker = \"WGO\""
   ]
  },
  {
   "cell_type": "markdown",
   "metadata": {},
   "source": [
    "Import the appropriate libraries in the lines below each comment:"
   ]
  },
  {
   "cell_type": "code",
   "execution_count": 1,
   "metadata": {},
   "outputs": [],
   "source": [
    "# pandas\n",
    "import pandas as pd\n",
    "# requests\n",
    "import requests as requests\n",
    "# alpha_vantage TimeSeries class\n",
    "from alpha_vantage.timeseries import TimeSeries\n",
    "# mmatplotlib.pyplot as plt\n",
    "import matplotlib.pyplot as plt"
   ]
  },
  {
   "cell_type": "markdown",
   "metadata": {},
   "source": [
    "#### Access API through an HTTP request\n",
    "\n",
    "Assign the API url to the variable \"link\".\n",
    "<br />(refer to the Alpha Vantage documention)\n",
    "<br />\n",
    "<br />Format the url string to include the \"api_key\" variable and the \"ticker\" variable Reassign the url u"
   ]
  },
  {
   "cell_type": "code",
   "execution_count": 12,
   "metadata": {},
   "outputs": [
    {
     "name": "stdout",
     "output_type": "stream",
     "text": [
      "https://www.alphavantage.co/query?function=TIME_SERIES_INTRADAY&symbol=WGO&interval=1min&apikey=E2XUHG8ME7PBWDMT\n"
     ]
    }
   ],
   "source": [
    "link = f\"https://www.alphavantage.co/query?function=TIME_SERIES_INTRADAY&symbol={ticker}&interval=1min&apikey={api_key}\"\n",
    "print(link)"
   ]
  },
  {
   "cell_type": "markdown",
   "metadata": {},
   "source": [
    "Refer to the requests documentation to set up a get request to the above url. Assign the output to a new variable, preferably your ticket symbol. "
   ]
  },
  {
   "cell_type": "code",
   "execution_count": 13,
   "metadata": {},
   "outputs": [],
   "source": [
    "WGO = requests.get(link)"
   ]
  },
  {
   "cell_type": "markdown",
   "metadata": {},
   "source": [
    "Print the HTTP response:"
   ]
  },
  {
   "cell_type": "code",
   "execution_count": 14,
   "metadata": {},
   "outputs": [
    {
     "name": "stdout",
     "output_type": "stream",
     "text": [
      "<Response [200]>\n"
     ]
    }
   ],
   "source": [
    "print(WGO)"
   ]
  },
  {
   "cell_type": "markdown",
   "metadata": {},
   "source": [
    "Print the data:"
   ]
  },
  {
   "cell_type": "code",
   "execution_count": 15,
   "metadata": {},
   "outputs": [
    {
     "name": "stdout",
     "output_type": "stream",
     "text": [
      "                     1. open  2. high   3. low  4. close  5. volume\n",
      "date                                                               \n",
      "2019-09-24 09:31:00  39.8400  39.8700  39.8400   39.8700        0.0\n",
      "2019-09-24 09:32:00  39.6600  39.6600  39.6600   39.6600      100.0\n",
      "2019-09-24 09:33:00  39.8050  40.2220  39.8000   40.2220     3126.0\n",
      "2019-09-24 09:34:00  40.1100  40.1100  40.1100   40.1100      110.0\n",
      "2019-09-24 09:36:00  40.1500  40.1500  40.1500   40.1500      100.0\n",
      "2019-09-24 09:37:00  40.1900  40.1900  40.1900   40.1900        0.0\n",
      "2019-09-24 09:42:00  40.3800  40.3800  40.3800   40.3800    26286.0\n",
      "2019-09-24 09:43:00  40.1815  40.3127  40.1676   40.2215     1606.0\n",
      "2019-09-24 09:44:00  40.1200  40.1800  40.1200   40.1800      302.0\n",
      "2019-09-24 09:45:00  40.0500  40.0500  40.0500   40.0500      408.0\n",
      "2019-09-24 09:46:00  39.9700  39.9700  39.9700   39.9700      447.0\n",
      "2019-09-24 09:47:00  39.8600  39.9700  39.8600   39.9200     2427.0\n",
      "2019-09-24 09:48:00  39.8300  39.8834  39.8300   39.8834      500.0\n",
      "2019-09-24 09:49:00  39.8750  39.8750  39.8500   39.8500      295.0\n",
      "2019-09-24 09:50:00  39.8100  39.8100  39.7800   39.7900     2508.0\n",
      "2019-09-24 09:51:00  39.7750  39.8600  39.7750   39.8500     1686.0\n",
      "2019-09-24 09:52:00  39.9100  39.9300  39.9100   39.9300      502.0\n",
      "2019-09-24 09:53:00  39.9040  39.9300  39.9040   39.9300     1112.0\n",
      "2019-09-24 09:54:00  39.9107  39.9496  39.8144   39.8356     1353.0\n",
      "2019-09-24 09:56:00  39.7650  39.8100  39.7650   39.8100     1159.0\n",
      "2019-09-24 09:57:00  39.7000  39.7000  39.6900   39.6900      509.0\n",
      "2019-09-24 09:58:00  39.6900  39.7000  39.6900   39.7000      446.0\n",
      "2019-09-24 09:59:00  39.7000  39.7000  39.7000   39.7000      229.0\n",
      "2019-09-24 10:00:00  39.6800  39.6800  39.6600   39.6600     1986.0\n",
      "2019-09-24 10:02:00  39.5450  39.6000  39.5450   39.6000      666.0\n",
      "2019-09-24 10:04:00  39.6500  39.6600  39.6500   39.6600      478.0\n",
      "2019-09-24 10:05:00  39.6700  39.6700  39.6600   39.6600     1078.0\n",
      "2019-09-24 10:06:00  39.6550  39.6550  39.5500   39.5500      667.0\n",
      "2019-09-24 10:07:00  39.5900  39.5900  39.5900   39.5900      257.0\n",
      "2019-09-24 10:10:00  39.5000  39.5000  39.4500   39.4500      719.0\n",
      "...                      ...      ...      ...       ...        ...\n",
      "2019-09-30 15:30:00  38.5800  38.6052  38.5300   38.5300     6302.0\n",
      "2019-09-30 15:31:00  38.5300  38.5600  38.5000   38.5500     4980.0\n",
      "2019-09-30 15:33:00  38.5525  38.5525  38.5200   38.5400     3582.0\n",
      "2019-09-30 15:34:00  38.5200  38.5300  38.5000   38.5300     2796.0\n",
      "2019-09-30 15:35:00  38.5300  38.5300  38.4300   38.4300     5606.0\n",
      "2019-09-30 15:36:00  38.4450  38.4450  38.4300   38.4300     1016.0\n",
      "2019-09-30 15:37:00  38.4400  38.4500  38.4300   38.4400     1634.0\n",
      "2019-09-30 15:38:00  38.4300  38.4600  38.4300   38.4400     3534.0\n",
      "2019-09-30 15:39:00  38.4400  38.4600  38.4400   38.4600     2798.0\n",
      "2019-09-30 15:40:00  38.4500  38.4800  38.4500   38.4800     1324.0\n",
      "2019-09-30 15:41:00  38.4750  38.5200  38.4750   38.5100     4293.0\n",
      "2019-09-30 15:42:00  38.5200  38.5200  38.5000   38.5000     4456.0\n",
      "2019-09-30 15:43:00  38.5050  38.5200  38.5000   38.5200     2492.0\n",
      "2019-09-30 15:44:00  38.5200  38.5500  38.5100   38.5400     4070.0\n",
      "2019-09-30 15:45:00  38.5300  38.5500  38.5150   38.5350     3428.0\n",
      "2019-09-30 15:46:00  38.5500  38.5500  38.5200   38.5400     2463.0\n",
      "2019-09-30 15:47:00  38.5400  38.5400  38.5200   38.5273     1504.0\n",
      "2019-09-30 15:48:00  38.5200  38.5400  38.5200   38.5200     5917.0\n",
      "2019-09-30 15:49:00  38.5300  38.5300  38.4800   38.4850     4092.0\n",
      "2019-09-30 15:50:00  38.5000  38.5000  38.4700   38.4900     4210.0\n",
      "2019-09-30 15:51:00  38.4900  38.4900  38.4500   38.4600     5462.0\n",
      "2019-09-30 15:52:00  38.4700  38.4700  38.4400   38.4400     2573.0\n",
      "2019-09-30 15:53:00  38.4500  38.4700  38.4400   38.4700     2413.0\n",
      "2019-09-30 15:54:00  38.4700  38.5000  38.4600   38.4700     6747.0\n",
      "2019-09-30 15:55:00  38.4650  38.4700  38.3800   38.3900     7288.0\n",
      "2019-09-30 15:56:00  38.3900  38.4500  38.3900   38.4280    10522.0\n",
      "2019-09-30 15:57:00  38.4200  38.4200  38.3000   38.3200    12495.0\n",
      "2019-09-30 15:58:00  38.3300  38.3600  38.3000   38.3400    11011.0\n",
      "2019-09-30 15:59:00  38.3500  38.4000  38.3500   38.3700     9053.0\n",
      "2019-09-30 16:00:00  38.3800  38.4100  38.3300   38.3300    27232.0\n",
      "\n",
      "[1625 rows x 5 columns]\n"
     ]
    }
   ],
   "source": [
    "print(wgo_data)"
   ]
  },
  {
   "cell_type": "markdown",
   "metadata": {},
   "source": [
    "______"
   ]
  },
  {
   "cell_type": "markdown",
   "metadata": {},
   "source": [
    "#### Access the API through the alpha_vantage libray\n",
    "\n",
    "Create an instance of the TimeSeries class imported earlier. Assign your API key to the key argument. Use \"pandas\" as an output format."
   ]
  },
  {
   "cell_type": "code",
   "execution_count": 6,
   "metadata": {},
   "outputs": [],
   "source": [
    "ts = TimeSeries(key= 'E2XUHG8ME7PBWDMT', output_format='pandas')"
   ]
  },
  {
   "cell_type": "markdown",
   "metadata": {},
   "source": [
    "Use the get_intraday method to access API data. Get the last 100 observations of data for your ticker symbol at 1-minute intervals:"
   ]
  },
  {
   "cell_type": "code",
   "execution_count": 7,
   "metadata": {},
   "outputs": [],
   "source": [
    "wgo_data, wgo_meta_data = ts.get_intraday(symbol='WGO' ,interval='1min', outputsize='full')"
   ]
  },
  {
   "cell_type": "markdown",
   "metadata": {},
   "source": [
    "Print the data:"
   ]
  },
  {
   "cell_type": "code",
   "execution_count": 8,
   "metadata": {},
   "outputs": [
    {
     "name": "stdout",
     "output_type": "stream",
     "text": [
      "                     1. open  2. high   3. low  4. close  5. volume\n",
      "date                                                               \n",
      "2019-09-24 09:31:00  39.8400  39.8700  39.8400   39.8700        0.0\n",
      "2019-09-24 09:32:00  39.6600  39.6600  39.6600   39.6600      100.0\n",
      "2019-09-24 09:33:00  39.8050  40.2220  39.8000   40.2220     3126.0\n",
      "2019-09-24 09:34:00  40.1100  40.1100  40.1100   40.1100      110.0\n",
      "2019-09-24 09:36:00  40.1500  40.1500  40.1500   40.1500      100.0\n",
      "2019-09-24 09:37:00  40.1900  40.1900  40.1900   40.1900        0.0\n",
      "2019-09-24 09:42:00  40.3800  40.3800  40.3800   40.3800    26286.0\n",
      "2019-09-24 09:43:00  40.1815  40.3127  40.1676   40.2215     1606.0\n",
      "2019-09-24 09:44:00  40.1200  40.1800  40.1200   40.1800      302.0\n",
      "2019-09-24 09:45:00  40.0500  40.0500  40.0500   40.0500      408.0\n",
      "2019-09-24 09:46:00  39.9700  39.9700  39.9700   39.9700      447.0\n",
      "2019-09-24 09:47:00  39.8600  39.9700  39.8600   39.9200     2427.0\n",
      "2019-09-24 09:48:00  39.8300  39.8834  39.8300   39.8834      500.0\n",
      "2019-09-24 09:49:00  39.8750  39.8750  39.8500   39.8500      295.0\n",
      "2019-09-24 09:50:00  39.8100  39.8100  39.7800   39.7900     2508.0\n",
      "2019-09-24 09:51:00  39.7750  39.8600  39.7750   39.8500     1686.0\n",
      "2019-09-24 09:52:00  39.9100  39.9300  39.9100   39.9300      502.0\n",
      "2019-09-24 09:53:00  39.9040  39.9300  39.9040   39.9300     1112.0\n",
      "2019-09-24 09:54:00  39.9107  39.9496  39.8144   39.8356     1353.0\n",
      "2019-09-24 09:56:00  39.7650  39.8100  39.7650   39.8100     1159.0\n",
      "2019-09-24 09:57:00  39.7000  39.7000  39.6900   39.6900      509.0\n",
      "2019-09-24 09:58:00  39.6900  39.7000  39.6900   39.7000      446.0\n",
      "2019-09-24 09:59:00  39.7000  39.7000  39.7000   39.7000      229.0\n",
      "2019-09-24 10:00:00  39.6800  39.6800  39.6600   39.6600     1986.0\n",
      "2019-09-24 10:02:00  39.5450  39.6000  39.5450   39.6000      666.0\n",
      "2019-09-24 10:04:00  39.6500  39.6600  39.6500   39.6600      478.0\n",
      "2019-09-24 10:05:00  39.6700  39.6700  39.6600   39.6600     1078.0\n",
      "2019-09-24 10:06:00  39.6550  39.6550  39.5500   39.5500      667.0\n",
      "2019-09-24 10:07:00  39.5900  39.5900  39.5900   39.5900      257.0\n",
      "2019-09-24 10:10:00  39.5000  39.5000  39.4500   39.4500      719.0\n",
      "...                      ...      ...      ...       ...        ...\n",
      "2019-09-30 15:30:00  38.5800  38.6052  38.5300   38.5300     6302.0\n",
      "2019-09-30 15:31:00  38.5300  38.5600  38.5000   38.5500     4980.0\n",
      "2019-09-30 15:33:00  38.5525  38.5525  38.5200   38.5400     3582.0\n",
      "2019-09-30 15:34:00  38.5200  38.5300  38.5000   38.5300     2796.0\n",
      "2019-09-30 15:35:00  38.5300  38.5300  38.4300   38.4300     5606.0\n",
      "2019-09-30 15:36:00  38.4450  38.4450  38.4300   38.4300     1016.0\n",
      "2019-09-30 15:37:00  38.4400  38.4500  38.4300   38.4400     1634.0\n",
      "2019-09-30 15:38:00  38.4300  38.4600  38.4300   38.4400     3534.0\n",
      "2019-09-30 15:39:00  38.4400  38.4600  38.4400   38.4600     2798.0\n",
      "2019-09-30 15:40:00  38.4500  38.4800  38.4500   38.4800     1324.0\n",
      "2019-09-30 15:41:00  38.4750  38.5200  38.4750   38.5100     4293.0\n",
      "2019-09-30 15:42:00  38.5200  38.5200  38.5000   38.5000     4456.0\n",
      "2019-09-30 15:43:00  38.5050  38.5200  38.5000   38.5200     2492.0\n",
      "2019-09-30 15:44:00  38.5200  38.5500  38.5100   38.5400     4070.0\n",
      "2019-09-30 15:45:00  38.5300  38.5500  38.5150   38.5350     3428.0\n",
      "2019-09-30 15:46:00  38.5500  38.5500  38.5200   38.5400     2463.0\n",
      "2019-09-30 15:47:00  38.5400  38.5400  38.5200   38.5273     1504.0\n",
      "2019-09-30 15:48:00  38.5200  38.5400  38.5200   38.5200     5917.0\n",
      "2019-09-30 15:49:00  38.5300  38.5300  38.4800   38.4850     4092.0\n",
      "2019-09-30 15:50:00  38.5000  38.5000  38.4700   38.4900     4210.0\n",
      "2019-09-30 15:51:00  38.4900  38.4900  38.4500   38.4600     5462.0\n",
      "2019-09-30 15:52:00  38.4700  38.4700  38.4400   38.4400     2573.0\n",
      "2019-09-30 15:53:00  38.4500  38.4700  38.4400   38.4700     2413.0\n",
      "2019-09-30 15:54:00  38.4700  38.5000  38.4600   38.4700     6747.0\n",
      "2019-09-30 15:55:00  38.4650  38.4700  38.3800   38.3900     7288.0\n",
      "2019-09-30 15:56:00  38.3900  38.4500  38.3900   38.4280    10522.0\n",
      "2019-09-30 15:57:00  38.4200  38.4200  38.3000   38.3200    12495.0\n",
      "2019-09-30 15:58:00  38.3300  38.3600  38.3000   38.3400    11011.0\n",
      "2019-09-30 15:59:00  38.3500  38.4000  38.3500   38.3700     9053.0\n",
      "2019-09-30 16:00:00  38.3800  38.4100  38.3300   38.3300    27232.0\n",
      "\n",
      "[1625 rows x 5 columns]\n"
     ]
    }
   ],
   "source": [
    "print(wgo_data)"
   ]
  },
  {
   "cell_type": "markdown",
   "metadata": {},
   "source": [
    "Plot one column of the time series data with the ticket symbol as the title of the graph.\n",
    "<br />(refer to prior problem set examples)"
   ]
  },
  {
   "cell_type": "code",
   "execution_count": 17,
   "metadata": {},
   "outputs": [
    {
     "data": {
      "image/png": "[encoded data removed]",
      "text/plain": [
       "<Figure size 432x288 with 1 Axes>"
      ]
     },
     "metadata": {
      "needs_background": "light"
     },
     "output_type": "display_data"
    }
   ],
   "source": [
    "wgo_data['1. open'].plot()\n",
    "plt.title(ticker)\n",
    "plt.show()"
   ]
  },
  {
   "cell_type": "markdown",
   "metadata": {},
   "source": [
    "______"
   ]
  },
  {
   "cell_type": "markdown",
   "metadata": {},
   "source": [
    "#### Export intraday data to Excel file\n",
    "\n",
    "Refer to the pandas.DataFrame documentation and create an Excel file that includes your time series data of your stock price:"
   ]
  },
  {
   "cell_type": "code",
   "execution_count": 18,
   "metadata": {},
   "outputs": [],
   "source": [
    "wgo_data.to_excel(\"my_WGO_stock_data.xlsx\")"
   ]
  },
  {
   "cell_type": "code",
   "execution_count": null,
   "metadata": {},
   "outputs": [],
   "source": []
  }
 ],
 "metadata": {
  "kernelspec": {
   "display_name": "Python 3",
   "language": "python",
   "name": "python3"
  },
  "language_info": {
   "codemirror_mode": {
    "name": "ipython",
    "version": 3
   },
   "file_extension": ".py",
   "mimetype": "text/x-python",
   "name": "python",
   "nbconvert_exporter": "python",
   "pygments_lexer": "ipython3",
   "version": "3.7.3"
  }
 },
 "nbformat": 4,
 "nbformat_minor": 2
}
